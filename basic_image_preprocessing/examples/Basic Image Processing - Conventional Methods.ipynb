{
 "cells": [
  {
   "cell_type": "code",
   "execution_count": null,
   "id": "3a43db42",
   "metadata": {},
   "outputs": [],
   "source": [
    "#!pip install basic_image_preprocessing"
   ]
  },
  {
   "cell_type": "code",
   "execution_count": null,
   "id": "c6643930",
   "metadata": {},
   "outputs": [],
   "source": [
    "from basic_image_preprocessing import ConventionalImageEnhancement"
   ]
  },
  {
   "cell_type": "code",
   "execution_count": null,
   "id": "8bdd37b4",
   "metadata": {},
   "outputs": [],
   "source": [
    "image_path = 'replace with image file path'"
   ]
  },
  {
   "cell_type": "markdown",
   "id": "de25da22",
   "metadata": {},
   "source": [
    "## Histogram Equalization"
   ]
  },
  {
   "cell_type": "markdown",
   "id": "bfb10b57",
   "metadata": {},
   "source": [
    "### Test case 1 - Histogram Equalization on Gray Scale Image"
   ]
  },
  {
   "cell_type": "code",
   "execution_count": null,
   "id": "d88a51c8",
   "metadata": {},
   "outputs": [],
   "source": [
    "obj = ConventionalImageEnhancement(image_path, cmap='gray')\n",
    "output = obj.equalization_histogram()"
   ]
  },
  {
   "cell_type": "markdown",
   "id": "b63f3abd",
   "metadata": {},
   "source": [
    "### Test Case 2 - Histogram Equalization on RGB image with default channel and cmap"
   ]
  },
  {
   "cell_type": "code",
   "execution_count": null,
   "id": "18df7186",
   "metadata": {
    "scrolled": true
   },
   "outputs": [],
   "source": [
    "obj = ConventionalImageEnhancement(image_path, cmap='rgb')\n",
    "output = obj.equalization_histogram()"
   ]
  },
  {
   "cell_type": "markdown",
   "id": "afd3add4",
   "metadata": {},
   "source": [
    "### Test Case 3 - Histogram Equalization on RGB image with custom cmap and default channel"
   ]
  },
  {
   "cell_type": "code",
   "execution_count": null,
   "id": "797c88f5",
   "metadata": {},
   "outputs": [],
   "source": [
    "obj = ConventionalImageEnhancement(image_path, cmap='rgb')\n",
    "output = obj.equalization_histogram(cmap = 'hsv')"
   ]
  },
  {
   "cell_type": "code",
   "execution_count": null,
   "id": "38a35e45",
   "metadata": {},
   "outputs": [],
   "source": [
    "obj = ConventionalImageEnhancement(image_path, cmap='rgb')\n",
    "output = obj.equalization_histogram(cmap = 'lab')"
   ]
  },
  {
   "cell_type": "markdown",
   "id": "9678763d",
   "metadata": {},
   "source": [
    "### Test Case 5 - Histogram Equalization on RGB image with default cmap and custom channel"
   ]
  },
  {
   "cell_type": "code",
   "execution_count": null,
   "id": "895cf533",
   "metadata": {},
   "outputs": [],
   "source": [
    "obj = ConventionalImageEnhancement(image_path, cmap='rgb')\n",
    "output = obj.equalization_histogram(channel=[1, 2])"
   ]
  },
  {
   "cell_type": "markdown",
   "id": "71eeba91",
   "metadata": {},
   "source": [
    "## CLAHE "
   ]
  },
  {
   "cell_type": "markdown",
   "id": "20253df6",
   "metadata": {},
   "source": [
    "### Test Case 1 - CLAHE on Gray scale image"
   ]
  },
  {
   "cell_type": "code",
   "execution_count": null,
   "id": "38a112c5",
   "metadata": {},
   "outputs": [],
   "source": [
    "# CLAHE with default clip_value and tile_grid_size\n",
    "obj = ConventionalImageEnhancement(image_path, cmap='gray')\n",
    "output = obj.clahe()"
   ]
  },
  {
   "cell_type": "code",
   "execution_count": null,
   "id": "6f9d14d3",
   "metadata": {},
   "outputs": [],
   "source": [
    "obj = ConventionalImageEnhancement(image_path, cmap='gray')\n",
    "output = obj.clahe(clip_value=3,tile_grid_size=10)"
   ]
  },
  {
   "cell_type": "markdown",
   "id": "2e458c2b",
   "metadata": {},
   "source": [
    "### Test Case 2 - CLAHE on RGB Image with default values"
   ]
  },
  {
   "cell_type": "code",
   "execution_count": null,
   "id": "36db8ae3",
   "metadata": {},
   "outputs": [],
   "source": [
    "obj = ConventionalImageEnhancement(image_path, cmap='rgb')\n",
    "output = obj.clahe()"
   ]
  },
  {
   "cell_type": "markdown",
   "id": "4b77528f",
   "metadata": {},
   "source": [
    "### Test Case 3 - CLAHE on RGB Image with custom value, cmap , channel"
   ]
  },
  {
   "cell_type": "code",
   "execution_count": null,
   "id": "aebdd354",
   "metadata": {},
   "outputs": [],
   "source": [
    "obj = ConventionalImageEnhancement(image_path, cmap='rgb')\n",
    "output = obj.clahe(clip_value=3,tile_grid_size=10, cmap='hsv')"
   ]
  },
  {
   "cell_type": "code",
   "execution_count": null,
   "id": "8866dec1",
   "metadata": {},
   "outputs": [],
   "source": [
    "obj = ConventionalImageEnhancement(image_path, cmap='rgb')\n",
    "output = obj.clahe(clip_value=3,tile_grid_size=10, cmap='lab')"
   ]
  },
  {
   "cell_type": "code",
   "execution_count": null,
   "id": "966d386d",
   "metadata": {},
   "outputs": [],
   "source": [
    "obj = ConventionalImageEnhancement(image_path, cmap='rgb')\n",
    "output = obj.clahe(clip_value=3,tile_grid_size=10, channel=[0, 2])"
   ]
  }
 ],
 "metadata": {
  "kernelspec": {
   "display_name": "basic_image_preprocessing",
   "language": "python",
   "name": "basic_image_preprocessing"
  },
  "language_info": {
   "codemirror_mode": {
    "name": "ipython",
    "version": 3
   },
   "file_extension": ".py",
   "mimetype": "text/x-python",
   "name": "python",
   "nbconvert_exporter": "python",
   "pygments_lexer": "ipython3",
   "version": "3.10.4"
  }
 },
 "nbformat": 4,
 "nbformat_minor": 5
}
