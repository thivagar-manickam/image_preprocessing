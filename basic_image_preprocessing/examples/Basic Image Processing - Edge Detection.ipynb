{
 "cells": [
  {
   "cell_type": "code",
   "execution_count": null,
   "id": "5fb0ec74",
   "metadata": {},
   "outputs": [],
   "source": [
    "#!pip install basic_image_preprocessing"
   ]
  },
  {
   "cell_type": "code",
   "execution_count": null,
   "id": "1aebdc97",
   "metadata": {},
   "outputs": [],
   "source": [
    "from basic_image_preprocessing import ImageEdgeDetection"
   ]
  },
  {
   "cell_type": "code",
   "execution_count": null,
   "id": "534c8539",
   "metadata": {},
   "outputs": [],
   "source": [
    "image_path = 'replace with image file path'"
   ]
  },
  {
   "cell_type": "markdown",
   "id": "3cfa5775",
   "metadata": {},
   "source": [
    "### Edge Detection on Gray Scale Image"
   ]
  },
  {
   "cell_type": "code",
   "execution_count": null,
   "id": "74cba69c",
   "metadata": {},
   "outputs": [],
   "source": [
    "obj = ImageEdgeDetection(image_path, cmap='gray')"
   ]
  },
  {
   "cell_type": "code",
   "execution_count": null,
   "id": "37122fdf",
   "metadata": {},
   "outputs": [],
   "source": [
    "result = obj.canny_edge_detection(lower_threshold=100, upper_threshold=525)"
   ]
  },
  {
   "cell_type": "code",
   "execution_count": null,
   "id": "3e1c21fa",
   "metadata": {},
   "outputs": [],
   "source": [
    "result = obj.canny_edge_detection(lower_threshold=130,upper_threshold=200,l2gradient=True)"
   ]
  },
  {
   "cell_type": "code",
   "execution_count": null,
   "id": "3a422923",
   "metadata": {},
   "outputs": [],
   "source": [
    "result = obj.laplacian(kernel=5,smoothness=True,plot_output=True)"
   ]
  },
  {
   "cell_type": "markdown",
   "id": "74429b71",
   "metadata": {},
   "source": [
    "### Edge Detection on RGB Image"
   ]
  },
  {
   "cell_type": "code",
   "execution_count": null,
   "id": "02280b7b",
   "metadata": {},
   "outputs": [],
   "source": [
    "obj = ImageEdgeDetection(image_path, cmap='rgb')"
   ]
  },
  {
   "cell_type": "code",
   "execution_count": null,
   "id": "177808ed",
   "metadata": {},
   "outputs": [],
   "source": [
    "# Canny Edge Detection\n",
    "result = obj.canny_edge_detection(lower_threshold=130,upper_threshold=200,l2gradient=True)"
   ]
  },
  {
   "cell_type": "code",
   "execution_count": null,
   "id": "e6c188e1",
   "metadata": {},
   "outputs": [],
   "source": [
    "# Laplacian method\n",
    "result = obj.laplacian(kernel=3,smoothness=True,plot_output=True)"
   ]
  },
  {
   "cell_type": "code",
   "execution_count": null,
   "id": "57441abe",
   "metadata": {},
   "outputs": [],
   "source": [
    "# Custom filter for edge_detection\n",
    "result = obj.edge_filtering(kernel_size=3,filter_type='edge_detection')"
   ]
  },
  {
   "cell_type": "code",
   "execution_count": null,
   "id": "e14827db",
   "metadata": {},
   "outputs": [],
   "source": [
    "# Custom filter for sharpening the image\n",
    "result = obj.edge_filtering(kernel_size=3,filter_type='sharpen')"
   ]
  }
 ],
 "metadata": {
  "kernelspec": {
   "display_name": "basic_image_preprocessing",
   "language": "python",
   "name": "basic_image_preprocessing"
  },
  "language_info": {
   "codemirror_mode": {
    "name": "ipython",
    "version": 3
   },
   "file_extension": ".py",
   "mimetype": "text/x-python",
   "name": "python",
   "nbconvert_exporter": "python",
   "pygments_lexer": "ipython3",
   "version": "3.10.4"
  }
 },
 "nbformat": 4,
 "nbformat_minor": 5
}
