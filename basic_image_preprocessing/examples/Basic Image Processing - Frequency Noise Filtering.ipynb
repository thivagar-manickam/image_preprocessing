{
 "cells": [
  {
   "cell_type": "code",
   "execution_count": null,
   "id": "f16dd7e4",
   "metadata": {},
   "outputs": [],
   "source": [
    "#!pip install basic_image_preprocessing"
   ]
  },
  {
   "cell_type": "code",
   "execution_count": null,
   "id": "908c571c",
   "metadata": {},
   "outputs": [],
   "source": [
    "from basic_image_preprocessing import FrequencyNoiseFiltering"
   ]
  },
  {
   "cell_type": "code",
   "execution_count": null,
   "id": "69d3ed2e",
   "metadata": {},
   "outputs": [],
   "source": [
    "image_path = 'replace with image file path'"
   ]
  },
  {
   "cell_type": "markdown",
   "id": "8c5e4324",
   "metadata": {},
   "source": [
    "## Frequency Filtering - Fourier Transform"
   ]
  },
  {
   "cell_type": "code",
   "execution_count": null,
   "id": "4e0fab03",
   "metadata": {},
   "outputs": [],
   "source": [
    "obj = FrequencyNoiseFiltering(image_path)"
   ]
  },
  {
   "cell_type": "code",
   "execution_count": null,
   "id": "0bad62ac",
   "metadata": {},
   "outputs": [],
   "source": [
    "output = obj.fourier_transform(80)"
   ]
  },
  {
   "cell_type": "code",
   "execution_count": null,
   "id": "0a6f162b",
   "metadata": {},
   "outputs": [],
   "source": [
    "output = obj.fourier_transform(40, low_pass_filter=True)"
   ]
  },
  {
   "cell_type": "code",
   "execution_count": null,
   "id": "1d6f0384",
   "metadata": {},
   "outputs": [],
   "source": [
    "output = obj.fourier_transform(40, high_pass_filter=True)"
   ]
  }
 ],
 "metadata": {
  "kernelspec": {
   "display_name": "basic_image_preprocessing",
   "language": "python",
   "name": "basic_image_preprocessing"
  },
  "language_info": {
   "codemirror_mode": {
    "name": "ipython",
    "version": 3
   },
   "file_extension": ".py",
   "mimetype": "text/x-python",
   "name": "python",
   "nbconvert_exporter": "python",
   "pygments_lexer": "ipython3",
   "version": "3.10.4"
  }
 },
 "nbformat": 4,
 "nbformat_minor": 5
}
