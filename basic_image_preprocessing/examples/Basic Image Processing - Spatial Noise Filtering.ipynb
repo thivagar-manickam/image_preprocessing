{
 "cells": [
  {
   "cell_type": "code",
   "execution_count": null,
   "id": "08880fe2",
   "metadata": {},
   "outputs": [],
   "source": [
    "#!pip install basic_image_processing"
   ]
  },
  {
   "cell_type": "code",
   "execution_count": null,
   "id": "fbc0c259",
   "metadata": {},
   "outputs": [],
   "source": [
    "from basic_image_preprocessing import SpatialNoiseFiltering"
   ]
  },
  {
   "cell_type": "code",
   "execution_count": null,
   "id": "d9e99cc7",
   "metadata": {},
   "outputs": [],
   "source": [
    "image_path = 'replace with image file path'"
   ]
  },
  {
   "cell_type": "markdown",
   "id": "9af457ee",
   "metadata": {},
   "source": [
    "## Spatial Noise Filtering on Gray Scale image"
   ]
  },
  {
   "cell_type": "code",
   "execution_count": null,
   "id": "c5349af4",
   "metadata": {},
   "outputs": [],
   "source": [
    "obj = SpatialNoiseFiltering(image_path=image_path, cmap='gray')"
   ]
  },
  {
   "cell_type": "code",
   "execution_count": null,
   "id": "ce34d941",
   "metadata": {},
   "outputs": [],
   "source": [
    "output = obj.noise_filtering(filter_type='mean', kernel_size=11)"
   ]
  },
  {
   "cell_type": "code",
   "execution_count": null,
   "id": "c4ddd144",
   "metadata": {},
   "outputs": [],
   "source": [
    "output = obj.noise_filtering(filter_type='median', kernel_size=11)"
   ]
  },
  {
   "cell_type": "code",
   "execution_count": null,
   "id": "1a6e345c",
   "metadata": {},
   "outputs": [],
   "source": [
    "output = obj.noise_filtering(filter_type='gaussian', kernel_size=11)"
   ]
  },
  {
   "cell_type": "code",
   "execution_count": null,
   "id": "47ac345c",
   "metadata": {},
   "outputs": [],
   "source": [
    "output = obj.bilateral_filter(diameter=15,sigma_color=290,sigma_space=200)"
   ]
  },
  {
   "cell_type": "code",
   "execution_count": null,
   "id": "d85642e0",
   "metadata": {},
   "outputs": [],
   "source": [
    "result = obj.wiener_filter(kernel_size=11, noise_variance=0.01)"
   ]
  },
  {
   "cell_type": "markdown",
   "id": "d0ed1276",
   "metadata": {},
   "source": [
    "## Spatial Noise Filtering on Color Image"
   ]
  },
  {
   "cell_type": "code",
   "execution_count": null,
   "id": "2222f447",
   "metadata": {},
   "outputs": [],
   "source": [
    "obj = SpatialNoiseFiltering(image_path=image_path, cmap='rgb')"
   ]
  },
  {
   "cell_type": "code",
   "execution_count": null,
   "id": "115afd95",
   "metadata": {},
   "outputs": [],
   "source": [
    "output = obj.noise_filtering(filter_type='mean', kernel_size=11)"
   ]
  },
  {
   "cell_type": "code",
   "execution_count": null,
   "id": "a38af9bf",
   "metadata": {},
   "outputs": [],
   "source": [
    "output = obj.noise_filtering(filter_type='median', kernel_size=11)"
   ]
  },
  {
   "cell_type": "code",
   "execution_count": null,
   "id": "9ad37540",
   "metadata": {},
   "outputs": [],
   "source": [
    "output = obj.noise_filtering(filter_type='gaussian', kernel_size=11)"
   ]
  },
  {
   "cell_type": "code",
   "execution_count": null,
   "id": "81d22b8e",
   "metadata": {},
   "outputs": [],
   "source": [
    "output = obj.bilateral_filter(diameter=15,sigma_color=290,sigma_space=200)"
   ]
  },
  {
   "cell_type": "code",
   "execution_count": null,
   "id": "bf52881d",
   "metadata": {},
   "outputs": [],
   "source": [
    "result = obj.wiener_filter(kernel_size=11, noise_variance=0.01)"
   ]
  }
 ],
 "metadata": {
  "kernelspec": {
   "display_name": "basic_image_preprocessing",
   "language": "python",
   "name": "basic_image_preprocessing"
  },
  "language_info": {
   "codemirror_mode": {
    "name": "ipython",
    "version": 3
   },
   "file_extension": ".py",
   "mimetype": "text/x-python",
   "name": "python",
   "nbconvert_exporter": "python",
   "pygments_lexer": "ipython3",
   "version": "3.10.4"
  }
 },
 "nbformat": 4,
 "nbformat_minor": 5
}
