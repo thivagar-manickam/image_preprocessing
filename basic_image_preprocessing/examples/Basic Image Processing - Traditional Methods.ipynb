{
 "cells": [
  {
   "cell_type": "code",
   "execution_count": null,
   "id": "a2e672f4",
   "metadata": {},
   "outputs": [],
   "source": [
    "# Run this line if the package is not already installed\n",
    "#!pip install basic_image_preprocessing"
   ]
  },
  {
   "cell_type": "code",
   "execution_count": null,
   "id": "6697dbc5",
   "metadata": {
    "scrolled": false
   },
   "outputs": [],
   "source": [
    "from basic_image_preprocessing import TraditionalImageEnhancement"
   ]
  },
  {
   "cell_type": "code",
   "execution_count": null,
   "id": "860a915e",
   "metadata": {},
   "outputs": [],
   "source": [
    "#image_path = 'replace with image file path'\n",
    "image_path = 'test_data/car_image.png'"
   ]
  },
  {
   "cell_type": "markdown",
   "id": "fda055b1",
   "metadata": {},
   "source": [
    "## Linear Equation Transformation"
   ]
  },
  {
   "cell_type": "markdown",
   "id": "fc345448",
   "metadata": {},
   "source": [
    "### Test Case 1 - Linear Equation Gray scale image"
   ]
  },
  {
   "cell_type": "code",
   "execution_count": null,
   "id": "28037653",
   "metadata": {},
   "outputs": [],
   "source": [
    "obj = TraditionalImageEnhancement(image_path, cmap='gray')"
   ]
  },
  {
   "cell_type": "code",
   "execution_count": null,
   "id": "5dd36a5a",
   "metadata": {},
   "outputs": [],
   "source": [
    "output = obj.linear_equation(slope=0.7, constant=40)"
   ]
  },
  {
   "cell_type": "markdown",
   "id": "15d3760c",
   "metadata": {},
   "source": [
    "### Test Case 2 - Linear Equation for RGB image with default cmap and channel"
   ]
  },
  {
   "cell_type": "code",
   "execution_count": null,
   "id": "0fc25d34",
   "metadata": {},
   "outputs": [],
   "source": [
    "obj = TraditionalImageEnhancement(image_path, cmap='rgb')"
   ]
  },
  {
   "cell_type": "code",
   "execution_count": null,
   "id": "6bcaa27e",
   "metadata": {},
   "outputs": [],
   "source": [
    "output = obj.linear_equation(slope=0.5, constant=40)"
   ]
  },
  {
   "cell_type": "markdown",
   "id": "92db7a63",
   "metadata": {},
   "source": [
    "### Test Case 3 - Linear Equation for RGB image with default cmap and user defined channel list"
   ]
  },
  {
   "cell_type": "code",
   "execution_count": null,
   "id": "1531ecbb",
   "metadata": {},
   "outputs": [],
   "source": [
    "obj = TraditionalImageEnhancement(image_path, cmap='rgb')"
   ]
  },
  {
   "cell_type": "code",
   "execution_count": null,
   "id": "f134e4d1",
   "metadata": {},
   "outputs": [],
   "source": [
    "# Correct input for channel\n",
    "output = obj.linear_equation(slope=0.5, constant=40, channel=[1, 2])"
   ]
  },
  {
   "cell_type": "markdown",
   "id": "2a7aae1e",
   "metadata": {},
   "source": [
    "### Test case 4 -  Linear Equation for RGB image with cmap = 'hsv'"
   ]
  },
  {
   "cell_type": "code",
   "execution_count": null,
   "id": "682f8c69",
   "metadata": {},
   "outputs": [],
   "source": [
    "obj = TraditionalImageEnhancement(image_path, cmap='rgb')"
   ]
  },
  {
   "cell_type": "code",
   "execution_count": null,
   "id": "8a5509f2",
   "metadata": {},
   "outputs": [],
   "source": [
    "output = obj.linear_equation(slope=0.5, constant=40, cmap='HSV')"
   ]
  },
  {
   "cell_type": "markdown",
   "id": "90f0e912",
   "metadata": {},
   "source": [
    "### Test case 5 - Linear Equation for RGB image with cmap = 'lab'"
   ]
  },
  {
   "cell_type": "code",
   "execution_count": null,
   "id": "077842f1",
   "metadata": {},
   "outputs": [],
   "source": [
    "obj = TraditionalImageEnhancement(image_path, cmap='rgb')"
   ]
  },
  {
   "cell_type": "code",
   "execution_count": null,
   "id": "83aa00bf",
   "metadata": {},
   "outputs": [],
   "source": [
    "output = obj.linear_equation(slope=0.5, constant=40, cmap='lab')"
   ]
  },
  {
   "cell_type": "markdown",
   "id": "568d0266",
   "metadata": {},
   "source": [
    "### Failure Scenarios For Linear Equation Definition"
   ]
  },
  {
   "cell_type": "code",
   "execution_count": null,
   "id": "f540728e",
   "metadata": {},
   "outputs": [],
   "source": [
    "obj = TraditionalImageEnhancement(image_path, cmap='rgb')"
   ]
  },
  {
   "cell_type": "code",
   "execution_count": null,
   "id": "9c44d614",
   "metadata": {},
   "outputs": [],
   "source": [
    "# Invalid Channel index\n",
    "\n",
    "output = obj.linear_equation(slope=0.5, constant=40, channel=[4, 1, 2])"
   ]
  },
  {
   "cell_type": "code",
   "execution_count": null,
   "id": "8e598abf",
   "metadata": {},
   "outputs": [],
   "source": [
    "# Invalid number of arguments for channel index\n",
    "\n",
    "output = obj.linear_equation(slope=0.5, constant=40, channel=[4, 1, 2, 5])"
   ]
  },
  {
   "cell_type": "code",
   "execution_count": null,
   "id": "e26d574e",
   "metadata": {},
   "outputs": [],
   "source": [
    "# Incorrect data type for channel parameter\n",
    "\n",
    "output = obj.linear_equation(slope=0.5, constant=40, channel=['1', '2'])"
   ]
  },
  {
   "cell_type": "code",
   "execution_count": null,
   "id": "9a45499d",
   "metadata": {},
   "outputs": [],
   "source": [
    "# Channel parameter takes a list and passing a single int value will fail\n",
    "output = obj.linear_equation(slope=0.5, constant=40, channel=1)"
   ]
  },
  {
   "cell_type": "code",
   "execution_count": null,
   "id": "f90d8ff3",
   "metadata": {},
   "outputs": [],
   "source": [
    "# Channel should not be passed when cmap='HSV'. For HSV transformation will be\n",
    "# done only on the value channel. \n",
    "output = obj.linear_equation(slope=0.5, constant=40, cmap='HSV', channel=[0, 2])"
   ]
  },
  {
   "cell_type": "code",
   "execution_count": null,
   "id": "22c86066",
   "metadata": {},
   "outputs": [],
   "source": [
    "# Channel should not be passed when cmap='lab'. For lab transformation will be\n",
    "# done only on the Lightness channel.\n",
    "output = obj.linear_equation(slope=0.5, constant=40, cmap='lab', channel=[0, 1])"
   ]
  },
  {
   "cell_type": "markdown",
   "id": "a10b3e55",
   "metadata": {},
   "source": [
    "## Simple Mathematical Operation"
   ]
  },
  {
   "cell_type": "markdown",
   "id": "199291e2",
   "metadata": {},
   "source": [
    "### Test Case 1 - Math operation on Gray Scale Image"
   ]
  },
  {
   "cell_type": "code",
   "execution_count": null,
   "id": "6a1249ec",
   "metadata": {},
   "outputs": [],
   "source": [
    "obj = TraditionalImageEnhancement(image_path, cmap='gray')\n",
    "\n",
    "# Method = addition or subtraction or multiplication or division\n",
    "output = obj.math_operation(method='addition',value=20)"
   ]
  },
  {
   "cell_type": "markdown",
   "id": "c3ac0d3e",
   "metadata": {},
   "source": [
    "### Test Case 2 - Various Math operation on RGB Image on default channel"
   ]
  },
  {
   "cell_type": "code",
   "execution_count": null,
   "id": "01caec1a",
   "metadata": {},
   "outputs": [],
   "source": [
    "obj = TraditionalImageEnhancement(image_path, cmap='rgb')\n",
    "output = obj.math_operation(method='addition',value=20)"
   ]
  },
  {
   "cell_type": "code",
   "execution_count": null,
   "id": "ef571e49",
   "metadata": {},
   "outputs": [],
   "source": [
    "obj = TraditionalImageEnhancement(image_path, cmap='rgb')\n",
    "output = obj.math_operation(method='subtraction',value=20)"
   ]
  },
  {
   "cell_type": "code",
   "execution_count": null,
   "id": "24521a36",
   "metadata": {},
   "outputs": [],
   "source": [
    "obj = TraditionalImageEnhancement(image_path, cmap='rgb')\n",
    "output = obj.math_operation(method='multiplication',value=10)"
   ]
  },
  {
   "cell_type": "code",
   "execution_count": null,
   "id": "d76f4618",
   "metadata": {},
   "outputs": [],
   "source": [
    "obj = TraditionalImageEnhancement(image_path, cmap='rgb')\n",
    "output = obj.math_operation(method='division',value=2)"
   ]
  },
  {
   "cell_type": "markdown",
   "id": "335f48d9",
   "metadata": {},
   "source": [
    "### Test Case 3 - Math operation on RGB Image on default cmap and user defined channel"
   ]
  },
  {
   "cell_type": "code",
   "execution_count": null,
   "id": "e84df128",
   "metadata": {},
   "outputs": [],
   "source": [
    "obj = TraditionalImageEnhancement(image_path, cmap='rgb')\n",
    "output = obj.math_operation(method='addition',value=30,channel=[1, 2])"
   ]
  },
  {
   "cell_type": "markdown",
   "id": "f73708ce",
   "metadata": {},
   "source": [
    "### Test Case 4 - Math operation on RGB image with cmap as HSV"
   ]
  },
  {
   "cell_type": "code",
   "execution_count": null,
   "id": "50bb73fe",
   "metadata": {},
   "outputs": [],
   "source": [
    "obj = TraditionalImageEnhancement(image_path, cmap='rgb')\n",
    "output = obj.math_operation(method='subtraction',value=50,cmap='hsv')"
   ]
  },
  {
   "cell_type": "markdown",
   "id": "3a4c8d93",
   "metadata": {},
   "source": [
    "### Test Case 5 - Math operation on RGB image with cmap as LAB"
   ]
  },
  {
   "cell_type": "code",
   "execution_count": null,
   "id": "86ac292a",
   "metadata": {},
   "outputs": [],
   "source": [
    "obj = TraditionalImageEnhancement(image_path, cmap='rgb')\n",
    "output = obj.math_operation(method='addition',value=2,cmap='lab')"
   ]
  },
  {
   "cell_type": "markdown",
   "id": "ad88ce92",
   "metadata": {},
   "source": [
    "### Failure scenarios for Math operation"
   ]
  },
  {
   "cell_type": "code",
   "execution_count": null,
   "id": "c66b10bc",
   "metadata": {},
   "outputs": [],
   "source": [
    "obj = TraditionalImageEnhancement(image_path, cmap='rgb')"
   ]
  },
  {
   "cell_type": "code",
   "execution_count": null,
   "id": "7f776a45",
   "metadata": {},
   "outputs": [],
   "source": [
    "# Incorrect method name.\n",
    "output = obj.math_operation(method='div',value=50)"
   ]
  },
  {
   "cell_type": "code",
   "execution_count": null,
   "id": "da14bd77",
   "metadata": {},
   "outputs": [],
   "source": [
    "# Invalid Channel index\n",
    "\n",
    "output = obj.math_operation(method='subtraction',value=50, channel=[4, 1, 2])"
   ]
  },
  {
   "cell_type": "code",
   "execution_count": null,
   "id": "014cc71a",
   "metadata": {},
   "outputs": [],
   "source": [
    "# Invalid number of arguments for channel index\n",
    "\n",
    "output = obj.math_operation(method='subtraction',value=50, channel=[4, 1, 2, 5])"
   ]
  },
  {
   "cell_type": "code",
   "execution_count": null,
   "id": "ff349210",
   "metadata": {},
   "outputs": [],
   "source": [
    "# Incorrect data type for channel parameter\n",
    "\n",
    "output = obj.math_operation(method='subtraction',value=50, channel=['1', '2'])"
   ]
  },
  {
   "cell_type": "code",
   "execution_count": null,
   "id": "e1512c06",
   "metadata": {},
   "outputs": [],
   "source": [
    "# Channel parameter takes a list and passing a single int value will fail\n",
    "output = obj.math_operation(method='subtraction',value=50, channel=1)"
   ]
  },
  {
   "cell_type": "code",
   "execution_count": null,
   "id": "c0b98817",
   "metadata": {},
   "outputs": [],
   "source": [
    "# Channel should not be passed when cmap='HSV'. For HSV transformation will be\n",
    "# done only on the value channel. \n",
    "output = obj.math_operation(method='subtraction',value=50, cmap='HSV', channel=[0, 2])"
   ]
  },
  {
   "cell_type": "code",
   "execution_count": null,
   "id": "a7cb4e56",
   "metadata": {},
   "outputs": [],
   "source": [
    "# Channel should not be passed when cmap='lab'. For lab transformation will be\n",
    "# done only on the Lightness channel.\n",
    "output = obj.math_operation(method='subtraction',value=50, cmap='lab', channel=[0, 1])"
   ]
  },
  {
   "cell_type": "markdown",
   "id": "b6eca0d3",
   "metadata": {},
   "source": [
    "## Non - Linear Transformation"
   ]
  },
  {
   "cell_type": "markdown",
   "id": "9f1d2bf5",
   "metadata": {},
   "source": [
    "### Test Case 1 - Non Linear operation on Gray Scale Image"
   ]
  },
  {
   "cell_type": "code",
   "execution_count": null,
   "id": "91ded0ad",
   "metadata": {},
   "outputs": [],
   "source": [
    "obj = TraditionalImageEnhancement(image_path, cmap='gray')\n",
    "\n",
    "# Method can take - power or exponential or log\n",
    "output = obj.non_linear_equation(method='power', power_value=7)"
   ]
  },
  {
   "cell_type": "markdown",
   "id": "b972a664",
   "metadata": {},
   "source": [
    "### Test Case 2 - Various Non - Linear Equation on RGB Image on default channel"
   ]
  },
  {
   "cell_type": "code",
   "execution_count": null,
   "id": "0f5df572",
   "metadata": {},
   "outputs": [],
   "source": [
    "obj = TraditionalImageEnhancement(image_path, cmap='rgb')\n",
    "\n",
    "output = obj.non_linear_equation(method='power', power_value=1)"
   ]
  },
  {
   "cell_type": "code",
   "execution_count": null,
   "id": "dfe89407",
   "metadata": {},
   "outputs": [],
   "source": [
    "obj = TraditionalImageEnhancement(image_path, cmap='rgb')\n",
    "\n",
    "output = obj.non_linear_equation(method='exponential')"
   ]
  },
  {
   "cell_type": "code",
   "execution_count": null,
   "id": "c50e702d",
   "metadata": {},
   "outputs": [],
   "source": [
    "obj = TraditionalImageEnhancement(image_path, cmap='rgb')\n",
    "\n",
    "output = obj.non_linear_equation(method='log', channel=[0])"
   ]
  },
  {
   "cell_type": "markdown",
   "id": "7ae4d389",
   "metadata": {},
   "source": [
    "### Test Case 3 - Non Linear Equation on RGB Image on default cmap and user defined channel"
   ]
  },
  {
   "cell_type": "code",
   "execution_count": null,
   "id": "86183cc0",
   "metadata": {},
   "outputs": [],
   "source": [
    "obj = TraditionalImageEnhancement(image_path, cmap='rgb')\n",
    "\n",
    "output = obj.non_linear_equation(method='power', power_value=1.5, channel=[1, 2])"
   ]
  },
  {
   "cell_type": "markdown",
   "id": "b3591dbb",
   "metadata": {},
   "source": [
    "## Test Case 4 -  Non Linear Equation on RGB Image with cmap as HSV"
   ]
  },
  {
   "cell_type": "code",
   "execution_count": null,
   "id": "414e7a26",
   "metadata": {},
   "outputs": [],
   "source": [
    "obj = TraditionalImageEnhancement(image_path, cmap='rgb')\n",
    "\n",
    "output = obj.non_linear_equation(method='power', power_value=1.5, cmap='hsv')"
   ]
  },
  {
   "cell_type": "markdown",
   "id": "840a5a87",
   "metadata": {},
   "source": [
    "## Test Case 5 - Non Linear Equation on RGB Image with cmap as LAB"
   ]
  },
  {
   "cell_type": "code",
   "execution_count": null,
   "id": "b846c2c1",
   "metadata": {},
   "outputs": [],
   "source": [
    "obj = TraditionalImageEnhancement(image_path, cmap='rgb')\n",
    "\n",
    "output = obj.non_linear_equation(method='power', power_value=1.1, cmap='lab')"
   ]
  },
  {
   "cell_type": "markdown",
   "id": "0da2beab",
   "metadata": {},
   "source": [
    "## Failure scenarios for Non Linear Operation"
   ]
  },
  {
   "cell_type": "code",
   "execution_count": null,
   "id": "e5da967f",
   "metadata": {},
   "outputs": [],
   "source": [
    "obj = TraditionalImageEnhancement(image_path, cmap='rgb')"
   ]
  },
  {
   "cell_type": "code",
   "execution_count": null,
   "id": "d783d5cc",
   "metadata": {},
   "outputs": [],
   "source": [
    "# Incorrect method name.\n",
    "output = obj.non_linear_equation(method='sqrt', power_value=1)"
   ]
  },
  {
   "cell_type": "code",
   "execution_count": null,
   "id": "edd5ed0e",
   "metadata": {},
   "outputs": [],
   "source": [
    "# Missing power_value param for the power method\n",
    "\n",
    "output = obj.non_linear_equation(method='power')"
   ]
  },
  {
   "cell_type": "code",
   "execution_count": null,
   "id": "4cfa9600",
   "metadata": {},
   "outputs": [],
   "source": [
    "# Channel parameter is required when applying log method on the RGB Image\n",
    "\n",
    "output = obj.non_linear_equation(method='log')"
   ]
  },
  {
   "cell_type": "code",
   "execution_count": null,
   "id": "2f1c7b2d",
   "metadata": {},
   "outputs": [],
   "source": [
    "# Invalid Channel index\n",
    "\n",
    "output = obj.non_linear_equation(method='power', power_value = 1, channel=[4, 1, 2])"
   ]
  },
  {
   "cell_type": "code",
   "execution_count": null,
   "id": "2921b01c",
   "metadata": {},
   "outputs": [],
   "source": [
    "# Invalid number of arguments for channel index\n",
    "\n",
    "output = obj.non_linear_equation(method='power', power_value = 1, channel=[4, 1, 2, 5])"
   ]
  },
  {
   "cell_type": "code",
   "execution_count": null,
   "id": "e317af23",
   "metadata": {},
   "outputs": [],
   "source": [
    "# Incorrect data type for channel parameter\n",
    "\n",
    "output = obj.non_linear_equation(method='power', power_value = 1, channel=['1', '2'])"
   ]
  },
  {
   "cell_type": "code",
   "execution_count": null,
   "id": "6aad3c15",
   "metadata": {},
   "outputs": [],
   "source": [
    "# Channel parameter takes a list and passing a single int value will fail\n",
    "output = obj.non_linear_equation(method='power', power_value = 1, channel=1)"
   ]
  },
  {
   "cell_type": "code",
   "execution_count": null,
   "id": "39d21887",
   "metadata": {},
   "outputs": [],
   "source": [
    "# Channel should not be passed when cmap='HSV'. For HSV transformation will be\n",
    "# done only on the value channel. \n",
    "output = obj.non_linear_equation(method='power', power_value = 1, cmap='HSV', channel=[0, 2])"
   ]
  },
  {
   "cell_type": "code",
   "execution_count": null,
   "id": "5ebb16b1",
   "metadata": {},
   "outputs": [],
   "source": [
    "# Channel should not be passed when cmap='lab'. For lab transformation will be\n",
    "# done only on the Lightness channel.\n",
    "output = obj.non_linear_equation(method='power', power_value = 1, cmap='lab', channel=[0, 1])"
   ]
  }
 ],
 "metadata": {
  "kernelspec": {
   "display_name": "basic_image_preprocessing",
   "language": "python",
   "name": "basic_image_preprocessing"
  },
  "language_info": {
   "codemirror_mode": {
    "name": "ipython",
    "version": 3
   },
   "file_extension": ".py",
   "mimetype": "text/x-python",
   "name": "python",
   "nbconvert_exporter": "python",
   "pygments_lexer": "ipython3",
   "version": "3.10.4"
  }
 },
 "nbformat": 4,
 "nbformat_minor": 5
}
